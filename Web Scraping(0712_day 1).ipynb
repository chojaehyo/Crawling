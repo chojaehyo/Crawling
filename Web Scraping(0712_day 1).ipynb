{
 "cells": [
  {
   "cell_type": "markdown",
   "id": "c15ff766",
   "metadata": {},
   "source": [
    "#### - webbrowser.open(url): 기본 브라우저를 사용하여 url을 표시"
   ]
  },
  {
   "cell_type": "code",
   "execution_count": 2,
   "id": "a819a72e",
   "metadata": {},
   "outputs": [
    {
     "data": {
      "text/plain": [
       "True"
      ]
     },
     "execution_count": 2,
     "metadata": {},
     "output_type": "execute_result"
    }
   ],
   "source": [
    "import webbrowser\n",
    "url = \"www.naver.com\"\n",
    "webbrowser.open(url)"
   ]
  },
  {
   "cell_type": "markdown",
   "id": "c98286a1",
   "metadata": {},
   "source": [
    "#### - 네이버에 원하는 검색어 검색"
   ]
  },
  {
   "cell_type": "code",
   "execution_count": 4,
   "id": "affd1005",
   "metadata": {},
   "outputs": [
    {
     "data": {
      "text/plain": [
       "True"
      ]
     },
     "execution_count": 4,
     "metadata": {},
     "output_type": "execute_result"
    }
   ],
   "source": [
    "import webbrowser\n",
    "\n",
    "naver_search_url = \"https://search.naver.com/search.naver?where=nexearch&sm=top_hty&fbm=1&ie=utf8&query=\"\n",
    "search_word = '파이썬'\n",
    "\n",
    "url = naver_search_url + search_word\n",
    "webbrowser.open_new(url)"
   ]
  },
  {
   "cell_type": "markdown",
   "id": "6396ffae",
   "metadata": {},
   "source": [
    "#### - 구글에 원하는 검색어 검색"
   ]
  },
  {
   "cell_type": "code",
   "execution_count": 5,
   "id": "eec034f8",
   "metadata": {},
   "outputs": [
    {
     "data": {
      "text/plain": [
       "True"
      ]
     },
     "execution_count": 5,
     "metadata": {},
     "output_type": "execute_result"
    }
   ],
   "source": [
    "import webbrowser\n",
    "\n",
    "naver_search_url = \"https://www.google.com/search?q=\"\n",
    "search_word = '파이썬'\n",
    "\n",
    "url = naver_search_url + search_word\n",
    "webbrowser.open_new(url)"
   ]
  },
  {
   "cell_type": "markdown",
   "id": "a9e10bc1",
   "metadata": {},
   "source": [
    "#### - 여러 사이트 열기"
   ]
  },
  {
   "cell_type": "code",
   "execution_count": 6,
   "id": "e6a864dc",
   "metadata": {},
   "outputs": [],
   "source": [
    "import webbrowser\n",
    "\n",
    "urls = ['www.naver.com', 'www.daum.net', 'www.google.com']\n",
    "\n",
    "for url in urls:\n",
    "    webbrowser.open_new(url)"
   ]
  },
  {
   "cell_type": "markdown",
   "id": "21f203e9",
   "metadata": {},
   "source": [
    "#### - 여러 검색어 검색하기"
   ]
  },
  {
   "cell_type": "code",
   "execution_count": 7,
   "id": "80a54628",
   "metadata": {},
   "outputs": [],
   "source": [
    "import webbrowser\n",
    "\n",
    "google_url = \"https://www.google.com/search?q=\"\n",
    "search_words = ['python web scraping', 'python webbrowser']\n",
    "\n",
    "for search_word in search_words:\n",
    "    webbrowser.open_new(google_url + search_word)\n"
   ]
  },
  {
   "cell_type": "markdown",
   "id": "f10fb23a",
   "metadata": {},
   "source": [
    "#### - HTML 파일 생성"
   ]
  },
  {
   "cell_type": "code",
   "execution_count": 8,
   "id": "6160d613",
   "metadata": {},
   "outputs": [
    {
     "name": "stdout",
     "output_type": "stream",
     "text": [
      "Writing HTML_example.html\n"
     ]
    }
   ],
   "source": [
    "%%writefile HTML_example.html\n",
    "<!doctype html>\n",
    "<html>\n",
    "<head>\n",
    "<meta charset=\"utf-8\">\n",
    "<title>이것은 HTML 예제</title>\n",
    "</head>\n",
    "<body>\n",
    "<h1>출간된 책 정보</h1>\n",
    "<p id=\"book_title\">이해가 쏙쏙 되는 파이썬</p>\n",
    "<p id=\"author\">홍길동</p>\n",
    "<p id=\"publisher\">위키북스 출판사</p>\n",
    "<p id=\"year\">2018</p>\n",
    "</body>\n",
    "</html>"
   ]
  },
  {
   "cell_type": "code",
   "execution_count": 9,
   "id": "65989cb3",
   "metadata": {},
   "outputs": [
    {
     "data": {
      "text/plain": [
       "<Response [200]>"
      ]
     },
     "execution_count": 9,
     "metadata": {},
     "output_type": "execute_result"
    }
   ],
   "source": [
    "import requests\n",
    "\n",
    "r = requests.get(\"https://www.google.co.kr\") # 응답객체 r\n",
    "r"
   ]
  },
  {
   "cell_type": "markdown",
   "id": "4c6e45c1",
   "metadata": {},
   "source": [
    "#### - text : UTF-8로 인코딩된 문자열 반환"
   ]
  },
  {
   "cell_type": "code",
   "execution_count": 10,
   "id": "d83c7458",
   "metadata": {},
   "outputs": [
    {
     "data": {
      "text/plain": [
       "'<!doctype html><html itemscope=\"\" itemtype=\"http://schema.org/WebPage\" lang=\"ko\"><head><meta content'"
      ]
     },
     "execution_count": 10,
     "metadata": {},
     "output_type": "execute_result"
    }
   ],
   "source": [
    "r.text[0:100]"
   ]
  },
  {
   "cell_type": "code",
   "execution_count": 11,
   "id": "8522fa3a",
   "metadata": {},
   "outputs": [
    {
     "data": {
      "text/plain": [
       "'<!doctype html><html itemscope=\"\" itemtype=\"http://schema.org/WebPage\" lang=\"ko\"><head><meta content'"
      ]
     },
     "execution_count": 11,
     "metadata": {},
     "output_type": "execute_result"
    }
   ],
   "source": [
    "import requests\n",
    "html = requests.get(\"https://www.google.co.kr\").text\n",
    "html[0:100]"
   ]
  },
  {
   "cell_type": "code",
   "execution_count": 16,
   "id": "7739b891",
   "metadata": {},
   "outputs": [
    {
     "name": "stdout",
     "output_type": "stream",
     "text": [
      "Overwriting HTML_examp2.html\n"
     ]
    }
   ],
   "source": [
    "%%writefile HTML_examp2.html\n",
    "<html><body><div><span>\n",
    "<a href=http://www.naver.com>naver</a>\n",
    "<a href=https://www.google.com>google</a>\n",
    "<a href=http://www.daum.net/>daum</a>\n",
    "</span></div></body></html>"
   ]
  },
  {
   "cell_type": "markdown",
   "id": "bd87af9f",
   "metadata": {},
   "source": [
    "#### - 데이터 찾고 추출하기"
   ]
  },
  {
   "cell_type": "code",
   "execution_count": 17,
   "id": "9d910c1e",
   "metadata": {},
   "outputs": [
    {
     "data": {
      "text/plain": [
       "<html><body><div><span>\n",
       "<a href=\"http://www.naver.com\">naver</a>\n",
       "<a href=\"https://www.google.com\">google</a><a href=\"http://www.daum.net/\">daum</a></span></div></body></html>"
      ]
     },
     "execution_count": 17,
     "metadata": {},
     "output_type": "execute_result"
    }
   ],
   "source": [
    "from bs4 import BeautifulSoup\n",
    "\n",
    "# 테스트용 html 코드\n",
    "html = \"\"\"<html><body><div><span>\n",
    "<a href=http://www.naver.com>naver</a>\n",
    "<a href=https://www.google.com>google</a>\\\n",
    "<a href=http://www.daum.net/>daum</a>\\\n",
    "</span></div></body></html>\"\"\" \n",
    "\n",
    "# BeautifulSoup를 이용해 HTML 소스를 파싱\n",
    "soup = BeautifulSoup(html, 'lxml') \n",
    "soup"
   ]
  },
  {
   "cell_type": "code",
   "execution_count": 19,
   "id": "98f4934a",
   "metadata": {},
   "outputs": [
    {
     "name": "stdout",
     "output_type": "stream",
     "text": [
      "<html>\n",
      " <body>\n",
      "  <div>\n",
      "   <span>\n",
      "    <a href=\"http://www.naver.com\">\n",
      "     naver\n",
      "    </a>\n",
      "    <a href=\"https://www.google.com\">\n",
      "     google\n",
      "    </a>\n",
      "    <a href=\"http://www.daum.net/\">\n",
      "     daum\n",
      "    </a>\n",
      "   </span>\n",
      "  </div>\n",
      " </body>\n",
      "</html>\n"
     ]
    }
   ],
   "source": [
    "print(soup.prettify())"
   ]
  },
  {
   "cell_type": "code",
   "execution_count": 21,
   "id": "f7801a60",
   "metadata": {},
   "outputs": [
    {
     "data": {
      "text/plain": [
       "<a href=\"http://www.naver.com\">naver</a>"
      ]
     },
     "execution_count": 21,
     "metadata": {},
     "output_type": "execute_result"
    }
   ],
   "source": [
    "soup.find(\"a\")"
   ]
  },
  {
   "cell_type": "code",
   "execution_count": 24,
   "id": "e186f524",
   "metadata": {},
   "outputs": [
    {
     "data": {
      "text/plain": [
       "bs4.element.Tag"
      ]
     },
     "execution_count": 24,
     "metadata": {},
     "output_type": "execute_result"
    }
   ],
   "source": [
    "type(soup.find(\"a\"))"
   ]
  },
  {
   "cell_type": "code",
   "execution_count": 22,
   "id": "f8669d0a",
   "metadata": {},
   "outputs": [
    {
     "data": {
      "text/plain": [
       "'naver'"
      ]
     },
     "execution_count": 22,
     "metadata": {},
     "output_type": "execute_result"
    }
   ],
   "source": [
    "soup.find('a').get_text()"
   ]
  },
  {
   "cell_type": "code",
   "execution_count": 25,
   "id": "c0ed7a89",
   "metadata": {},
   "outputs": [
    {
     "data": {
      "text/plain": [
       "str"
      ]
     },
     "execution_count": 25,
     "metadata": {},
     "output_type": "execute_result"
    }
   ],
   "source": [
    "type(soup.find('a').get_text())"
   ]
  },
  {
   "cell_type": "markdown",
   "id": "78f4030c",
   "metadata": {},
   "source": [
    "#### - find('a'): 제일 처음 'a' 태그만 검색\n",
    "#### - find_all('a') : 'a' 태그 전체 검색"
   ]
  },
  {
   "cell_type": "code",
   "execution_count": 23,
   "id": "1f7453d3",
   "metadata": {},
   "outputs": [
    {
     "data": {
      "text/plain": [
       "[<a href=\"http://www.naver.com\">naver</a>,\n",
       " <a href=\"https://www.google.com\">google</a>,\n",
       " <a href=\"http://www.daum.net/\">daum</a>]"
      ]
     },
     "execution_count": 23,
     "metadata": {},
     "output_type": "execute_result"
    }
   ],
   "source": [
    " soup.find_all('a') "
   ]
  },
  {
   "cell_type": "code",
   "execution_count": 26,
   "id": "58516ebe",
   "metadata": {},
   "outputs": [
    {
     "data": {
      "text/plain": [
       "bs4.element.ResultSet"
      ]
     },
     "execution_count": 26,
     "metadata": {},
     "output_type": "execute_result"
    }
   ],
   "source": [
    "type( soup.find_all('a'))"
   ]
  },
  {
   "cell_type": "code",
   "execution_count": 27,
   "id": "63c389d3",
   "metadata": {},
   "outputs": [
    {
     "name": "stdout",
     "output_type": "stream",
     "text": [
      "naver\n",
      "google\n",
      "daum\n"
     ]
    }
   ],
   "source": [
    "site_names = soup.find_all('a')\n",
    "\n",
    "for site_name in site_names:\n",
    "    print(site_name.get_text())"
   ]
  },
  {
   "cell_type": "code",
   "execution_count": 1,
   "id": "414e6bfa",
   "metadata": {},
   "outputs": [],
   "source": [
    "from bs4 import BeautifulSoup\n",
    "\n",
    "html2 = \"\"\"\n",
    " <html>\n",
    " <head>\n",
    " <title>작품과 작가 모음</title>\n",
    " </head>\n",
    " <body>\n",
    " <h1>책 정보</h1>\n",
    " <p id=\"book_title\">토지</p>\n",
    " <p id=\"author\">박경리</p>\n",
    " \n",
    " <p id=\"book_title\">태백산맥</p>\n",
    " <p id=\"author\">조정래</p>\n",
    " <p id=\"book_title\">감옥으로부터의 사색</p>\n",
    " <p id=\"author\">신영복</p>\n",
    " </body>\n",
    " </html>\n",
    " \"\"\"\n",
    "\n",
    "soup2 = BeautifulSoup(html2, \"lxml\")"
   ]
  },
  {
   "cell_type": "code",
   "execution_count": 30,
   "id": "b8d65082",
   "metadata": {},
   "outputs": [
    {
     "data": {
      "text/plain": [
       "<title>작품과 작가 모음</title>"
      ]
     },
     "execution_count": 30,
     "metadata": {},
     "output_type": "execute_result"
    }
   ],
   "source": [
    "soup2.title"
   ]
  },
  {
   "cell_type": "code",
   "execution_count": 31,
   "id": "31173ddc",
   "metadata": {},
   "outputs": [
    {
     "data": {
      "text/plain": [
       "<body>\n",
       "<h1>책 정보</h1>\n",
       "<p id=\"book_title\">토지</p>\n",
       "<p id=\"author\">박경리</p>\n",
       "<p id=\"book_title\">태백산맥</p>\n",
       "<p id=\"author\">조정래</p>\n",
       "<p id=\"book_title\">감옥으로부터의 사색</p>\n",
       "<p id=\"author\">신영복</p>\n",
       "</body>"
      ]
     },
     "execution_count": 31,
     "metadata": {},
     "output_type": "execute_result"
    }
   ],
   "source": [
    "soup2.body"
   ]
  },
  {
   "cell_type": "code",
   "execution_count": 32,
   "id": "b2ac4ee0",
   "metadata": {},
   "outputs": [
    {
     "data": {
      "text/plain": [
       "<h1>책 정보</h1>"
      ]
     },
     "execution_count": 32,
     "metadata": {},
     "output_type": "execute_result"
    }
   ],
   "source": [
    "soup2.h1"
   ]
  },
  {
   "cell_type": "code",
   "execution_count": 33,
   "id": "53103d54",
   "metadata": {},
   "outputs": [
    {
     "data": {
      "text/plain": [
       "<p id=\"book_title\">토지</p>"
      ]
     },
     "execution_count": 33,
     "metadata": {},
     "output_type": "execute_result"
    }
   ],
   "source": [
    "soup2.find('p') "
   ]
  },
  {
   "cell_type": "code",
   "execution_count": 34,
   "id": "fdf34b7f",
   "metadata": {},
   "outputs": [
    {
     "data": {
      "text/plain": [
       "[<p id=\"book_title\">토지</p>,\n",
       " <p id=\"author\">박경리</p>,\n",
       " <p id=\"book_title\">태백산맥</p>,\n",
       " <p id=\"author\">조정래</p>,\n",
       " <p id=\"book_title\">감옥으로부터의 사색</p>,\n",
       " <p id=\"author\">신영복</p>]"
      ]
     },
     "execution_count": 34,
     "metadata": {},
     "output_type": "execute_result"
    }
   ],
   "source": [
    "soup2.find_all('p')"
   ]
  },
  {
   "cell_type": "code",
   "execution_count": 35,
   "id": "8b621b4f",
   "metadata": {},
   "outputs": [
    {
     "data": {
      "text/plain": [
       "bs4.element.ResultSet"
      ]
     },
     "execution_count": 35,
     "metadata": {},
     "output_type": "execute_result"
    }
   ],
   "source": [
    "type(soup2.find_all('p'))"
   ]
  },
  {
   "cell_type": "markdown",
   "id": "8c483256",
   "metadata": {},
   "source": [
    "#### - dict 타입으로 id값 주면 해당 id갖는 태그만 검색"
   ]
  },
  {
   "cell_type": "code",
   "execution_count": 36,
   "id": "9325872e",
   "metadata": {},
   "outputs": [
    {
     "data": {
      "text/plain": [
       "<p id=\"book_title\">토지</p>"
      ]
     },
     "execution_count": 36,
     "metadata": {},
     "output_type": "execute_result"
    }
   ],
   "source": [
    "soup2.find('p', {'id' : 'book_title'})"
   ]
  },
  {
   "cell_type": "code",
   "execution_count": 37,
   "id": "4950a5a3",
   "metadata": {},
   "outputs": [
    {
     "data": {
      "text/plain": [
       "<p id=\"author\">박경리</p>"
      ]
     },
     "execution_count": 37,
     "metadata": {},
     "output_type": "execute_result"
    }
   ],
   "source": [
    "soup2.find('p', {'id' : 'author'})"
   ]
  },
  {
   "cell_type": "code",
   "execution_count": 38,
   "id": "7c4edc61",
   "metadata": {},
   "outputs": [
    {
     "data": {
      "text/plain": [
       "[<p id=\"book_title\">토지</p>,\n",
       " <p id=\"book_title\">태백산맥</p>,\n",
       " <p id=\"book_title\">감옥으로부터의 사색</p>]"
      ]
     },
     "execution_count": 38,
     "metadata": {},
     "output_type": "execute_result"
    }
   ],
   "source": [
    "soup2.find_all('p', {'id' : 'book_title'})"
   ]
  },
  {
   "cell_type": "code",
   "execution_count": 39,
   "id": "e9940d51",
   "metadata": {},
   "outputs": [
    {
     "data": {
      "text/plain": [
       "[<p id=\"author\">박경리</p>, <p id=\"author\">조정래</p>, <p id=\"author\">신영복</p>]"
      ]
     },
     "execution_count": 39,
     "metadata": {},
     "output_type": "execute_result"
    }
   ],
   "source": [
    "soup2.find_all('p', {'id' : 'author'})"
   ]
  },
  {
   "cell_type": "code",
   "execution_count": 2,
   "id": "5330af28",
   "metadata": {},
   "outputs": [
    {
     "name": "stdout",
     "output_type": "stream",
     "text": [
      "토지/박경리\n",
      "태백산맥/조정래\n",
      "감옥으로부터의 사색/신영복\n"
     ]
    }
   ],
   "source": [
    "from bs4 import BeautifulSoup\n",
    "\n",
    "soup2 = BeautifulSoup(html2, 'lxml')\n",
    "\n",
    "book_titles = soup2.find_all('p', {'id' : 'book_title'})\n",
    "authors = soup2.find_all('p', {'id' : 'author'})\n",
    "\n",
    "for book_title, author in zip(book_titles, authors):\n",
    "    print(book_title.get_text() + '/' + author.get_text())"
   ]
  },
  {
   "cell_type": "code",
   "execution_count": null,
   "id": "e723dad1",
   "metadata": {},
   "outputs": [],
   "source": [
    "<html>\n",
    "<head>\n",
    "<title>작품과 작가 모음</title>\n",
    "</head>\n",
    "<body>\n",
    "<h1>책 정보</h1>\n",
    "<p id=\"book_title\">토지</p>\n",
    "<p id=\"author\">박경리</p>\n",
    "\n",
    "<p id=\"book_title\">태백산맥</p>\n",
    "<p id=\"author\">조정래</p>\n",
    "<p id=\"book_title\">감옥으로부터의 사색</p>\n",
    "<p id=\"author\">신영복</p>\n",
    "</body>\n",
    "</html>"
   ]
  },
  {
   "cell_type": "markdown",
   "id": "7718c27a",
   "metadata": {},
   "source": [
    "#### - select: 해당하는것 모두 가져옴 - find_all과 유사\n",
    "#### - select_one: 해당하는 것 하나만 가져옴 - find와 유사"
   ]
  },
  {
   "cell_type": "code",
   "execution_count": 3,
   "id": "98e73438",
   "metadata": {},
   "outputs": [
    {
     "data": {
      "text/plain": [
       "[<h1>책 정보</h1>]"
      ]
     },
     "execution_count": 3,
     "metadata": {},
     "output_type": "execute_result"
    }
   ],
   "source": [
    "soup2.select('body  h1')"
   ]
  },
  {
   "cell_type": "code",
   "execution_count": 4,
   "id": "bd9fb8aa",
   "metadata": {
    "scrolled": true
   },
   "outputs": [
    {
     "data": {
      "text/plain": [
       "[<p id=\"book_title\">토지</p>,\n",
       " <p id=\"author\">박경리</p>,\n",
       " <p id=\"book_title\">태백산맥</p>,\n",
       " <p id=\"author\">조정래</p>,\n",
       " <p id=\"book_title\">감옥으로부터의 사색</p>,\n",
       " <p id=\"author\">신영복</p>]"
      ]
     },
     "execution_count": 4,
     "metadata": {},
     "output_type": "execute_result"
    }
   ],
   "source": [
    "soup2.select('body p')"
   ]
  },
  {
   "cell_type": "code",
   "execution_count": 5,
   "id": "b4b0a0ae",
   "metadata": {},
   "outputs": [
    {
     "data": {
      "text/plain": [
       "<p id=\"book_title\">토지</p>"
      ]
     },
     "execution_count": 5,
     "metadata": {},
     "output_type": "execute_result"
    }
   ],
   "source": [
    "soup2.select_one('body p')"
   ]
  },
  {
   "cell_type": "code",
   "execution_count": 43,
   "id": "f235924f",
   "metadata": {},
   "outputs": [
    {
     "data": {
      "text/plain": [
       "[<p id=\"book_title\">토지</p>,\n",
       " <p id=\"author\">박경리</p>,\n",
       " <p id=\"book_title\">태백산맥</p>,\n",
       " <p id=\"author\">조정래</p>,\n",
       " <p id=\"book_title\">감옥으로부터의 사색</p>,\n",
       " <p id=\"author\">신영복</p>]"
      ]
     },
     "execution_count": 43,
     "metadata": {},
     "output_type": "execute_result"
    }
   ],
   "source": [
    "soup2.select('p')"
   ]
  },
  {
   "cell_type": "markdown",
   "id": "f346cf70",
   "metadata": {},
   "source": [
    "#### - find에서는 dict형태로 id검색\n",
    "#### - select에서는 tag#id: 해당 id를 갖는 태그 반환"
   ]
  },
  {
   "cell_type": "code",
   "execution_count": 44,
   "id": "9f666386",
   "metadata": {},
   "outputs": [
    {
     "data": {
      "text/plain": [
       "[<p id=\"book_title\">토지</p>,\n",
       " <p id=\"book_title\">태백산맥</p>,\n",
       " <p id=\"book_title\">감옥으로부터의 사색</p>]"
      ]
     },
     "execution_count": 44,
     "metadata": {},
     "output_type": "execute_result"
    }
   ],
   "source": [
    "soup2.select('p#book_title')"
   ]
  },
  {
   "cell_type": "code",
   "execution_count": 45,
   "id": "30eb80a5",
   "metadata": {},
   "outputs": [
    {
     "data": {
      "text/plain": [
       "[<p id=\"author\">박경리</p>, <p id=\"author\">조정래</p>, <p id=\"author\">신영복</p>]"
      ]
     },
     "execution_count": 45,
     "metadata": {},
     "output_type": "execute_result"
    }
   ],
   "source": [
    "soup2.select('p#author')"
   ]
  },
  {
   "cell_type": "code",
   "execution_count": 46,
   "id": "e5754daa",
   "metadata": {},
   "outputs": [
    {
     "name": "stdout",
     "output_type": "stream",
     "text": [
      "Writing HTML_example_my_site.html\n"
     ]
    }
   ],
   "source": [
    "%%writefile HTML_example_my_site.html\n",
    "<!doctype html>\n",
    "<html>\n",
    "<head>\n",
    "<meta charset=\"utf-8\">\n",
    "<title>사이트 모음</title>\n",
    "</head>\n",
    "<body>\n",
    "<p id=\"title\"><b>자주 가는 사이트 모음</b></p>\n",
    "<p id=\"contents\">이곳은 자주 가는 사이트를 모아둔 곳입니다.</p>\n",
    "<a href=\"http://www.naver.com\" class=\"portal\" id=\"naver\">네이버</a> <br>\n",
    "<a href=\"https://www.google.com\" class=\"search\" id=\"google\">구글</a> <br>\n",
    "<a href=\"http://www.daum.net\" class=\"portal\" id=\"danum\">다음</a> <br>\n",
    "<a href=\"http://www.nl.go.kr\" class=\"government\" id=\"nl\">국립중앙도서관</a>\n",
    "</body>\n",
    "</html>"
   ]
  },
  {
   "cell_type": "code",
   "execution_count": 48,
   "id": "b59c6221",
   "metadata": {},
   "outputs": [],
   "source": [
    "f = open('HTML_example_my_site.html', encoding='utf-8')\n",
    "\n",
    "html3 = f.read()\n",
    "f.close()"
   ]
  },
  {
   "cell_type": "code",
   "execution_count": 50,
   "id": "6179ac84",
   "metadata": {},
   "outputs": [],
   "source": [
    "soup3 = BeautifulSoup(html3, 'lxml')"
   ]
  },
  {
   "cell_type": "code",
   "execution_count": 51,
   "id": "d481eab5",
   "metadata": {},
   "outputs": [
    {
     "data": {
      "text/plain": [
       "[<a class=\"portal\" href=\"http://www.naver.com\" id=\"naver\">네이버</a>,\n",
       " <a class=\"search\" href=\"https://www.google.com\" id=\"google\">구글</a>,\n",
       " <a class=\"portal\" href=\"http://www.daum.net\" id=\"danum\">다음</a>,\n",
       " <a class=\"government\" href=\"http://www.nl.go.kr\" id=\"nl\">국립중앙도서관</a>]"
      ]
     },
     "execution_count": 51,
     "metadata": {},
     "output_type": "execute_result"
    }
   ],
   "source": [
    "soup3.select('a')"
   ]
  },
  {
   "cell_type": "markdown",
   "id": "0f96960c",
   "metadata": {},
   "source": [
    "#### - select에서 class 속성 갖는 태그 검색은 . 이용"
   ]
  },
  {
   "cell_type": "code",
   "execution_count": 52,
   "id": "1009550d",
   "metadata": {},
   "outputs": [
    {
     "data": {
      "text/plain": [
       "[<a class=\"portal\" href=\"http://www.naver.com\" id=\"naver\">네이버</a>,\n",
       " <a class=\"portal\" href=\"http://www.daum.net\" id=\"danum\">다음</a>]"
      ]
     },
     "execution_count": 52,
     "metadata": {},
     "output_type": "execute_result"
    }
   ],
   "source": [
    "soup3.select('a.portal')"
   ]
  },
  {
   "cell_type": "code",
   "execution_count": 53,
   "id": "2c1270a7",
   "metadata": {},
   "outputs": [
    {
     "data": {
      "text/plain": [
       "[<a class=\"portal\" href=\"http://www.naver.com\" id=\"naver\">네이버</a>,\n",
       " <a class=\"search\" href=\"https://www.google.com\" id=\"google\">구글</a>,\n",
       " <a class=\"portal\" href=\"http://www.daum.net\" id=\"danum\">다음</a>,\n",
       " <a class=\"government\" href=\"http://www.nl.go.kr\" id=\"nl\">국립중앙도서관</a>]"
      ]
     },
     "execution_count": 53,
     "metadata": {},
     "output_type": "execute_result"
    }
   ],
   "source": [
    "soup3.select('html a')"
   ]
  },
  {
   "cell_type": "code",
   "execution_count": 54,
   "id": "0e94f89b",
   "metadata": {},
   "outputs": [
    {
     "data": {
      "text/plain": [
       "[<a class=\"portal\" href=\"http://www.naver.com\" id=\"naver\">네이버</a>,\n",
       " <a class=\"search\" href=\"https://www.google.com\" id=\"google\">구글</a>,\n",
       " <a class=\"portal\" href=\"http://www.daum.net\" id=\"danum\">다음</a>,\n",
       " <a class=\"government\" href=\"http://www.nl.go.kr\" id=\"nl\">국립중앙도서관</a>]"
      ]
     },
     "execution_count": 54,
     "metadata": {},
     "output_type": "execute_result"
    }
   ],
   "source": [
    "soup3.select('body a')"
   ]
  },
  {
   "cell_type": "code",
   "execution_count": 55,
   "id": "ec3987a7",
   "metadata": {},
   "outputs": [
    {
     "data": {
      "text/plain": [
       "[<a class=\"portal\" href=\"http://www.naver.com\" id=\"naver\">네이버</a>,\n",
       " <a class=\"search\" href=\"https://www.google.com\" id=\"google\">구글</a>,\n",
       " <a class=\"portal\" href=\"http://www.daum.net\" id=\"danum\">다음</a>,\n",
       " <a class=\"government\" href=\"http://www.nl.go.kr\" id=\"nl\">국립중앙도서관</a>]"
      ]
     },
     "execution_count": 55,
     "metadata": {},
     "output_type": "execute_result"
    }
   ],
   "source": [
    "soup3.select('html body a')"
   ]
  },
  {
   "cell_type": "code",
   "execution_count": 56,
   "id": "d37dc11a",
   "metadata": {},
   "outputs": [
    {
     "data": {
      "text/plain": [
       "[<a class=\"portal\" href=\"http://www.naver.com\" id=\"naver\">네이버</a>,\n",
       " <a class=\"search\" href=\"https://www.google.com\" id=\"google\">구글</a>,\n",
       " <a class=\"portal\" href=\"http://www.daum.net\" id=\"danum\">다음</a>,\n",
       " <a class=\"government\" href=\"http://www.nl.go.kr\" id=\"nl\">국립중앙도서관</a>]"
      ]
     },
     "execution_count": 56,
     "metadata": {},
     "output_type": "execute_result"
    }
   ],
   "source": [
    "soup3.select('a')"
   ]
  },
  {
   "cell_type": "code",
   "execution_count": 57,
   "id": "5b2f0ace",
   "metadata": {},
   "outputs": [
    {
     "data": {
      "text/plain": [
       "[<a class=\"portal\" href=\"http://www.naver.com\" id=\"naver\">네이버</a>]"
      ]
     },
     "execution_count": 57,
     "metadata": {},
     "output_type": "execute_result"
    }
   ],
   "source": [
    "soup3.select('a#naver')"
   ]
  },
  {
   "cell_type": "markdown",
   "id": "2e25bbb6",
   "metadata": {},
   "source": [
    "#### - select에서 class 검색은 .으로 가능"
   ]
  },
  {
   "cell_type": "markdown",
   "id": "08a99c22",
   "metadata": {},
   "source": [
    "#### - id나 클래스 아닌 속성은 []안에 넣어서 사용가능"
   ]
  },
  {
   "cell_type": "code",
   "execution_count": 58,
   "id": "afd27416",
   "metadata": {},
   "outputs": [
    {
     "data": {
      "text/plain": [
       "[<a class=\"portal\" href=\"http://www.naver.com\" id=\"naver\">네이버</a>,\n",
       " <a class=\"search\" href=\"https://www.google.com\" id=\"google\">구글</a>,\n",
       " <a class=\"portal\" href=\"http://www.daum.net\" id=\"danum\">다음</a>,\n",
       " <a class=\"government\" href=\"http://www.nl.go.kr\" id=\"nl\">국립중앙도서관</a>]"
      ]
     },
     "execution_count": 58,
     "metadata": {},
     "output_type": "execute_result"
    }
   ],
   "source": [
    "soup3.select('a[href]')"
   ]
  },
  {
   "cell_type": "markdown",
   "id": "bc31537b",
   "metadata": {},
   "source": [
    "#### - 줄바꿈 예제"
   ]
  },
  {
   "cell_type": "code",
   "execution_count": 59,
   "id": "cace7106",
   "metadata": {},
   "outputs": [
    {
     "name": "stdout",
     "output_type": "stream",
     "text": [
      "Writing br_example_constitution.html\n"
     ]
    }
   ],
   "source": [
    "%%writefile br_example_constitution.html\n",
    "<!doctype html>\n",
    "<html>\n",
    "<head>\n",
    "<meta charset=\"utf-8\">\n",
    "<title>줄 바꿈 테스트 예제</title>\n",
    "</head>\n",
    "<body>\n",
    "<p id=\"title\"><b>대한민국헌법</b></p>\n",
    "<p id=\"content\">제1조 <br/>①대한민국은 민주공화국이다.<br/>②대한민국의 주권은 국민에게 있고, \n",
    "모든 권력은 국민으로부터 나온다.</p>\n",
    "<p id=\"content\">제2조 <br/>①대한민국의 국민이 되는 요건은 법률로 정한다.<br/>②국가는 법률이 \n",
    "정하는 바에 의하여 재외국민을 보호할 의무를 진다.</p>\n",
    "</body>\n",
    "</html>\n"
   ]
  },
  {
   "cell_type": "markdown",
   "id": "eea63700",
   "metadata": {},
   "source": [
    "#### - replace_with(): 원본 자체를 변경시켜줌"
   ]
  },
  {
   "cell_type": "code",
   "execution_count": 63,
   "id": "82a26a19",
   "metadata": {},
   "outputs": [
    {
     "data": {
      "text/plain": [
       "<br/>"
      ]
     },
     "execution_count": 63,
     "metadata": {},
     "output_type": "execute_result"
    }
   ],
   "source": [
    "html1 = \"\"\"<p id=\"content\">제1조 <br/>①대한민국은 민주공화국이다.<br/>②대한민국의 주권은 국민에게 있고, \n",
    "모든 권력은 국민으로부터 나온다.</p>\"\"\"\n",
    "\n",
    "soup1= BeautifulSoup(html1, 'lxml')\n",
    "\n",
    "content1 = soup1.find('p', {'id':'content'})\n",
    "br_content = content1.find('br')\n",
    "\n",
    "br_content.replace_with(\"\\n\")"
   ]
  },
  {
   "cell_type": "code",
   "execution_count": 64,
   "id": "caf27f8f",
   "metadata": {},
   "outputs": [
    {
     "data": {
      "text/plain": [
       "<p id=\"content\">제1조 \n",
       "①대한민국은 민주공화국이다.<br/>②대한민국의 주권은 국민에게 있고, \n",
       "모든 권력은 국민으로부터 나온다.</p>"
      ]
     },
     "execution_count": 64,
     "metadata": {},
     "output_type": "execute_result"
    }
   ],
   "source": [
    "content1"
   ]
  },
  {
   "cell_type": "code",
   "execution_count": 65,
   "id": "647c60bc",
   "metadata": {},
   "outputs": [
    {
     "data": {
      "text/plain": [
       "<p id=\"content\">제1조 <br/>①대한민국은 민주공화국이다.<br/>②대한민국의 주권은 국민에게 있고, \n",
       "모든 권력은 국민으로부터 나온다.</p>"
      ]
     },
     "execution_count": 65,
     "metadata": {},
     "output_type": "execute_result"
    }
   ],
   "source": [
    "soup2 = BeautifulSoup(html1, \"lxml\")\n",
    "content2 = soup2.find('p', {'id' : 'content'})\n",
    "\n",
    "br_contents = content2.find_all('br')\n",
    "\n",
    "for br_content in br_contents:\n",
    "    br_content.replace_with(\"\\n\")\n",
    "  "
   ]
  },
  {
   "cell_type": "code",
   "execution_count": 68,
   "id": "a246aab8",
   "metadata": {},
   "outputs": [],
   "source": [
    "def replace_newline(soup_html):\n",
    "    br_contents = soup_html.find_all('br')\n",
    "\n",
    "    for br_content in br_contents:\n",
    "        br_content.replace_with(\"\\n\")\n",
    "        \n",
    "    return soup_html"
   ]
  },
  {
   "cell_type": "code",
   "execution_count": 70,
   "id": "a895669b",
   "metadata": {},
   "outputs": [
    {
     "name": "stdout",
     "output_type": "stream",
     "text": [
      "제1조 \n",
      "①대한민국은 민주공화국이다.\n",
      "②대한민국의 주권은 국민에게 있고, \n",
      "모든 권력은 국민으로부터 나온다.\n"
     ]
    }
   ],
   "source": [
    "soup2 = BeautifulSoup(html1, \"lxml\")\n",
    "content2 = soup2.find('p', {'id' : 'content'})\n",
    "content3 = replace_newline(content2)\n",
    "print(content3.get_text())"
   ]
  },
  {
   "cell_type": "markdown",
   "id": "2ff93504",
   "metadata": {},
   "source": [
    "#### - 순위 데이터 가져오기"
   ]
  },
  {
   "cell_type": "code",
   "execution_count": 81,
   "id": "b9e3340c",
   "metadata": {},
   "outputs": [],
   "source": [
    "import requests\n",
    "\n",
    "from bs4 import BeautifulSoup\n",
    "\n",
    "url = \"https://www.alexa.com/topsites/countries/KR\"\n",
    "\n",
    "html_website_ranking = requests.get(url).text\n",
    "soup_website_ranking = BeautifulSoup(html_website_ranking, \"lxml\")\n",
    "\n",
    "\n",
    "website_ranking = soup_website_ranking.select(\"p > a\")"
   ]
  },
  {
   "cell_type": "code",
   "execution_count": 82,
   "id": "17344c29",
   "metadata": {},
   "outputs": [
    {
     "data": {
      "text/plain": [
       "[<a href=\"/siteinfo/google.com\">Google.com</a>,\n",
       " <a href=\"/siteinfo/naver.com\">Naver.com</a>,\n",
       " <a href=\"/siteinfo/youtube.com\">Youtube.com</a>,\n",
       " <a href=\"/siteinfo/daum.net\">Daum.net</a>,\n",
       " <a href=\"/siteinfo/tistory.com\">Tistory.com</a>,\n",
       " <a href=\"/siteinfo/kakao.com\">Kakao.com</a>]"
      ]
     },
     "execution_count": 82,
     "metadata": {},
     "output_type": "execute_result"
    }
   ],
   "source": [
    "website_ranking[:6]"
   ]
  },
  {
   "cell_type": "code",
   "execution_count": 83,
   "id": "dcb0c54c",
   "metadata": {},
   "outputs": [
    {
     "data": {
      "text/plain": [
       "'Google.com'"
      ]
     },
     "execution_count": 83,
     "metadata": {},
     "output_type": "execute_result"
    }
   ],
   "source": [
    "website_ranking[0].get_text()"
   ]
  },
  {
   "cell_type": "code",
   "execution_count": 86,
   "id": "0386aa28",
   "metadata": {},
   "outputs": [],
   "source": [
    "website_ranking_address = [website_ranking_element.get_text() for website_ranking_element in website_ranking]"
   ]
  },
  {
   "cell_type": "code",
   "execution_count": 87,
   "id": "3e123174",
   "metadata": {},
   "outputs": [
    {
     "name": "stdout",
     "output_type": "stream",
     "text": [
      "1:Google.com\n",
      "2:Naver.com\n",
      "3:Youtube.com\n",
      "4:Daum.net\n",
      "5:Tistory.com\n",
      "6:Kakao.com\n"
     ]
    }
   ],
   "source": [
    "for k in range(6):\n",
    "    print(\"{0}:{1}\".format(k+1, website_ranking_address[k]))"
   ]
  },
  {
   "cell_type": "code",
   "execution_count": 88,
   "id": "4b65a1f7",
   "metadata": {},
   "outputs": [
    {
     "data": {
      "text/plain": [
       "list"
      ]
     },
     "execution_count": 88,
     "metadata": {},
     "output_type": "execute_result"
    }
   ],
   "source": [
    "type(website_ranking_address)"
   ]
  },
  {
   "cell_type": "code",
   "execution_count": 90,
   "id": "4dd2a7d2",
   "metadata": {},
   "outputs": [
    {
     "data": {
      "text/html": [
       "<div>\n",
       "<style scoped>\n",
       "    .dataframe tbody tr th:only-of-type {\n",
       "        vertical-align: middle;\n",
       "    }\n",
       "\n",
       "    .dataframe tbody tr th {\n",
       "        vertical-align: top;\n",
       "    }\n",
       "\n",
       "    .dataframe thead th {\n",
       "        text-align: right;\n",
       "    }\n",
       "</style>\n",
       "<table border=\"1\" class=\"dataframe\">\n",
       "  <thead>\n",
       "    <tr style=\"text-align: right;\">\n",
       "      <th></th>\n",
       "      <th>Website</th>\n",
       "    </tr>\n",
       "  </thead>\n",
       "  <tbody>\n",
       "    <tr>\n",
       "      <th>0</th>\n",
       "      <td>Google.com</td>\n",
       "    </tr>\n",
       "    <tr>\n",
       "      <th>1</th>\n",
       "      <td>Naver.com</td>\n",
       "    </tr>\n",
       "    <tr>\n",
       "      <th>2</th>\n",
       "      <td>Youtube.com</td>\n",
       "    </tr>\n",
       "    <tr>\n",
       "      <th>3</th>\n",
       "      <td>Daum.net</td>\n",
       "    </tr>\n",
       "    <tr>\n",
       "      <th>4</th>\n",
       "      <td>Tistory.com</td>\n",
       "    </tr>\n",
       "    <tr>\n",
       "      <th>5</th>\n",
       "      <td>Kakao.com</td>\n",
       "    </tr>\n",
       "  </tbody>\n",
       "</table>\n",
       "</div>"
      ],
      "text/plain": [
       "       Website\n",
       "0   Google.com\n",
       "1    Naver.com\n",
       "2  Youtube.com\n",
       "3     Daum.net\n",
       "4  Tistory.com\n",
       "5    Kakao.com"
      ]
     },
     "execution_count": 90,
     "metadata": {},
     "output_type": "execute_result"
    }
   ],
   "source": [
    "import pandas as pd\n",
    "\n",
    "website_ranking_dict = {\"Website\" : website_ranking_address}\n",
    "#df = pd.DataFrame(website_ranking_dict, columns=[\"Website\"]), index=range(1, len(website_ranking_dict) + 1))\n",
    "df = pd.DataFrame(website_ranking_dict)\n",
    "df[:6]"
   ]
  },
  {
   "cell_type": "markdown",
   "id": "658a0e8c",
   "metadata": {},
   "source": [
    "* HTML"
   ]
  },
  {
   "cell_type": "markdown",
   "id": "49b50446",
   "metadata": {},
   "source": [
    "HTML : 뼈대      CSS : 디자인    Javascript : 동적"
   ]
  },
  {
   "cell_type": "code",
   "execution_count": 91,
   "id": "e1a89443",
   "metadata": {},
   "outputs": [
    {
     "name": "stdout",
     "output_type": "stream",
     "text": [
      "Writing playdata_home.html\n"
     ]
    }
   ],
   "source": [
    "%%writefile playdata_home.html\n",
    "\n",
    "<html>\n",
    "    <head>\n",
    "        <meta charset = 'utf-8'>\n",
    "        <title>플레이데이터 11기 홈페이지</title>\n",
    "    </head>\n",
    "    <body>\n",
    "        <input type=\"text\" value=\"아이디를 입력하세요\">\n",
    "        <input type=\"password\">        \n",
    "        <input type=\"button\" value=\"로그인\"\n",
    "        <a href=\"http://google.com\"> 구글로 이동하기</a>\n",
    "    </body>\n",
    "</html>"
   ]
  },
  {
   "cell_type": "markdown",
   "id": "123b6e76",
   "metadata": {},
   "source": [
    "#### - xpath: 유니크한 경로\n",
    "#### -  fullpath: 전체 경로"
   ]
  },
  {
   "cell_type": "code",
   "execution_count": null,
   "id": "9e40e469",
   "metadata": {},
   "outputs": [],
   "source": [
    "//*[@id=\"account\"]/a\n",
    "\n",
    "/html/body/div[2]/div[3]/div[3]/div/div[2]/a"
   ]
  },
  {
   "cell_type": "markdown",
   "id": "20b0cdf7",
   "metadata": {},
   "source": [
    "#### - requests"
   ]
  },
  {
   "cell_type": "code",
   "execution_count": 94,
   "id": "a6eac6fe",
   "metadata": {},
   "outputs": [
    {
     "name": "stdout",
     "output_type": "stream",
     "text": [
      "정상입니다.\n"
     ]
    }
   ],
   "source": [
    "import requests\n",
    "\n",
    "res = requests.get(\"http://google.com\")\n",
    "\n",
    "if res.status_code == requests.codes.ok:\n",
    "    print(\"정상입니다.\")\n",
    "else:\n",
    "    print(\"문제가 생겼습니다.\", res.status_code)"
   ]
  },
  {
   "cell_type": "code",
   "execution_count": 96,
   "id": "55bd3e6c",
   "metadata": {},
   "outputs": [
    {
     "name": "stdout",
     "output_type": "stream",
     "text": [
      "응답코드 : 200\n"
     ]
    }
   ],
   "source": [
    "import requests\n",
    "\n",
    "res = requests.get(\"http://google.com\")\n",
    "\n",
    "res.raise_for_status()\n",
    "\n",
    "print(\"응답코드 :\", res.status_code)"
   ]
  },
  {
   "cell_type": "code",
   "execution_count": 98,
   "id": "37cfa486",
   "metadata": {},
   "outputs": [
    {
     "data": {
      "text/plain": [
       "14026"
      ]
     },
     "execution_count": 98,
     "metadata": {},
     "output_type": "execute_result"
    }
   ],
   "source": [
    "len(res.text)"
   ]
  },
  {
   "cell_type": "code",
   "execution_count": 99,
   "id": "a7309667",
   "metadata": {},
   "outputs": [],
   "source": [
    "with open(\"google.html\", \"w\", encoding=\"utf8\") as f:\n",
    "    f.write(res.text)"
   ]
  },
  {
   "cell_type": "markdown",
   "id": "e697d3f7",
   "metadata": {},
   "source": [
    "####  - 정규 표현식"
   ]
  },
  {
   "cell_type": "code",
   "execution_count": null,
   "id": "4efed247",
   "metadata": {},
   "outputs": [],
   "source": [
    "주민등록번호\n",
    "111111-2222222\n",
    "\n",
    "이메일 주소\n",
    "Ghyunghee@gmail.com (O)\n",
    "Ghyunghee@gmail.com@gmail (X)\n",
    "\n",
    "차량번호\n",
    "11가 1234\n",
    "123가 1234\n",
    "\n",
    "IP 주소\n",
    "192.168.0.1 (O)\n",
    "1000.2000.3000.4000 (X)"
   ]
  },
  {
   "cell_type": "code",
   "execution_count": 6,
   "id": "e8b29313",
   "metadata": {},
   "outputs": [
    {
     "data": {
      "text/plain": [
       "['care', 'cafe']"
      ]
     },
     "execution_count": 6,
     "metadata": {},
     "output_type": "execute_result"
    }
   ],
   "source": [
    "import re\n",
    "\n",
    "# ca?e\n",
    "# care, cafe, case, cave\n",
    "# caae, cabe, cace, cade....\n",
    "\n",
    "# 패턴에 대한 정보를 갖는 객체 p 생성\n",
    "p = re.compile(\"ca.e\")\n",
    "\n",
    "p.match(\"careless\") # 주어진 문자열의 처음부터 일지하는지 확인\n",
    "p.search(\"good care\") # 주어진 문자열 중에 일치하는게 있는지 확인\n",
    "p.findall(\"good care cafe\") # 주어진 문자열 중에 일치하는 모든 것을 리스트 형태로 반환"
   ]
  },
  {
   "cell_type": "code",
   "execution_count": 8,
   "id": "3fc61f37",
   "metadata": {},
   "outputs": [
    {
     "name": "stdout",
     "output_type": "stream",
     "text": [
      "<re.Match object; span=(0, 4), match='care'>\n",
      "<re.Match object; span=(5, 9), match='care'>\n",
      "['care', 'cafe']\n"
     ]
    }
   ],
   "source": [
    "print(p.match(\"careless\")) \n",
    "print(p.search(\"good care\")) \n",
    "print(p.findall(\"good care cafe\"))"
   ]
  },
  {
   "cell_type": "code",
   "execution_count": 7,
   "id": "f87a6c05",
   "metadata": {},
   "outputs": [
    {
     "name": "stdout",
     "output_type": "stream",
     "text": [
      "m.group() :  care\n",
      "m.string :  careless\n",
      "m.start() :  0\n",
      "m.end() :  4\n",
      "m.span() :  (0, 4)\n"
     ]
    }
   ],
   "source": [
    "def print_match(m):\n",
    "    print(\"m.group() : \", m.group()) #일치하는 문자열 반환\n",
    "    print(\"m.string : \", m.string) # 입력받은 문자열\n",
    "    print(\"m.start() : \", m.start()) #일치하는 문자열의 시작 인덱스\n",
    "    print(\"m.end() : \", m.end()) #일치하는 문자열의 끝 인덱스\n",
    "    print(\"m.span() : \", m.span()) # 일치하는 문자열의 시작/끝 인덱스\n",
    "    \n",
    "m = p.match(\"careless\") # 주어진 문자열의 처음부터 일지하는지 확인\n",
    "print_match(m)\n",
    "\n",
    "# m = p.search(\"good care\") # 주어진 문자열 중에 일치하는게 있는지 확인\n",
    "\n",
    "# m = p.findall(\"good care cafe\") # 주어진 문자열 중에 일치하는 모든 것을 리스트 형태로 반환    "
   ]
  },
  {
   "cell_type": "code",
   "execution_count": null,
   "id": "3440f19f",
   "metadata": {},
   "outputs": [],
   "source": [
    "# . (ca.e) : 하나의 문자를 의미 > care, cafe, case\n",
    "# ^ (^de ) : 문자열의 시작 > desk, destination, fade(X)\n",
    "# $ (se$) : 문자열의 끝 > case, base, face(X)"
   ]
  },
  {
   "cell_type": "markdown",
   "id": "abe7c33a",
   "metadata": {},
   "source": [
    "* 이메일 주소 검사하기"
   ]
  },
  {
   "cell_type": "code",
   "execution_count": 118,
   "id": "599eedf5",
   "metadata": {},
   "outputs": [
    {
     "name": "stdout",
     "output_type": "stream",
     "text": [
      "True True True True True False False False "
     ]
    }
   ],
   "source": [
    "import re\n",
    "\n",
    "p = re.compile('^[a-zA-Z0-9+-_.]+@[a-zA-Z0-9-]+\\.[a-zA-Z0-9-.]+$')\n",
    "\n",
    "emails =['python@mail.example.com', 'python+kr@example.com',\n",
    "        'python-dojang@example.co.kr', 'python_10@example.info',\n",
    "        'python.dojang@e-xample.com',\n",
    "        '@example.com', 'python@example', 'python@example-com']\n",
    "\n",
    "for email in emails:\n",
    "    print(p.match(email) != None, end=' ')"
   ]
  },
  {
   "cell_type": "code",
   "execution_count": 121,
   "id": "a6467a69",
   "metadata": {},
   "outputs": [
    {
     "name": "stdout",
     "output_type": "stream",
     "text": [
      "True True True True True False False False "
     ]
    }
   ],
   "source": [
    "import re\n",
    "p = re.compile('[+-.\\w+]+@[a-z-]+\\.[a-z]+')\n",
    "\n",
    "emails = ['python@mail.example.com', 'python_10@example.com',\n",
    "          'python-dojang@example.co.kr', 'python_10@example.info',\n",
    "          'python.dojang@e-xample.com',\n",
    "          '@example.com', 'python@example', 'python@example-com']\n",
    "\n",
    "for email in emails:\n",
    "    print(p.match(email) != None, end=' ')"
   ]
  }
 ],
 "metadata": {
  "kernelspec": {
   "display_name": "Python 3",
   "language": "python",
   "name": "python3"
  },
  "language_info": {
   "codemirror_mode": {
    "name": "ipython",
    "version": 3
   },
   "file_extension": ".py",
   "mimetype": "text/x-python",
   "name": "python",
   "nbconvert_exporter": "python",
   "pygments_lexer": "ipython3",
   "version": "3.8.8"
  }
 },
 "nbformat": 4,
 "nbformat_minor": 5
}
